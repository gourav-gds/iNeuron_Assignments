{
 "cells": [
  {
   "cell_type": "markdown",
   "metadata": {},
   "source": [
    "### Write a Python Program to find sum of array?"
   ]
  },
  {
   "cell_type": "code",
   "execution_count": 1,
   "metadata": {},
   "outputs": [],
   "source": [
    "import array as arr"
   ]
  },
  {
   "cell_type": "code",
   "execution_count": 9,
   "metadata": {},
   "outputs": [
    {
     "name": "stdout",
     "output_type": "stream",
     "text": [
      "23\n"
     ]
    }
   ],
   "source": [
    "import array as arr\n",
    "\n",
    "sum = 0\n",
    "numbers = arr.array('i',[1,2,3,7,10])\n",
    "for n in numbers:\n",
    "    sum += n\n",
    "    \n",
    "print(sum)"
   ]
  },
  {
   "cell_type": "markdown",
   "metadata": {},
   "source": [
    "### Write a Python Program to find largest element in an array?"
   ]
  },
  {
   "cell_type": "code",
   "execution_count": 11,
   "metadata": {},
   "outputs": [
    {
     "name": "stdout",
     "output_type": "stream",
     "text": [
      "Largest num is: 10\n"
     ]
    }
   ],
   "source": [
    "import array as arr\n",
    "\n",
    "numbers = arr.array('i',[1,2,3,7,10])\n",
    "max_num = numbers[0]\n",
    "for n in numbers:\n",
    "    if (max_num <= n):\n",
    "        max_num = n\n",
    "    \n",
    "print(\"Largest num is:\",max_num)"
   ]
  },
  {
   "cell_type": "markdown",
   "metadata": {},
   "source": [
    "### Write a Python Program for array rotation?"
   ]
  },
  {
   "cell_type": "code",
   "execution_count": 18,
   "metadata": {},
   "outputs": [
    {
     "name": "stdout",
     "output_type": "stream",
     "text": [
      "How many positions/steps:6\n",
      "1 for right to Left rotaion\n",
      "2 for left to right rotation\n",
      "1\n",
      "[2, 3, 4, 5, 1]\n"
     ]
    }
   ],
   "source": [
    "li = [1,2,3,4,5]\n",
    "result = li.copy()\n",
    "step = int(input(\"How many positions/steps:\"))\n",
    "direction = int(input(\"1 for right to Left rotaion\\n2 for left to right rotation\\n\"))\n",
    "net_step = step%len(li)\n",
    "# print(net_step)\n",
    "\n",
    "if direction == 1:\n",
    "    for index, item in enumerate(li):\n",
    "        new_pos = index - net_step\n",
    "#         print(\"new_pos:\", new_pos)\n",
    "#         print(\"item:\",item)\n",
    "        result[new_pos] = item\n",
    "else:\n",
    "    for index, item in enumerate(li):\n",
    "        new_pos = index + net_step - len(li)\n",
    "        result[new_pos] = item\n",
    "        \n",
    "print(result)"
   ]
  },
  {
   "cell_type": "code",
   "execution_count": null,
   "metadata": {},
   "outputs": [],
   "source": []
  },
  {
   "cell_type": "markdown",
   "metadata": {},
   "source": [
    "### Write a Python Program to Split the array and add the first part to the end?"
   ]
  },
  {
   "cell_type": "code",
   "execution_count": 1,
   "metadata": {},
   "outputs": [],
   "source": [
    "li1 = [1,2,3,4,5]\n",
    "li2 = [1,2,3,4,5,6]"
   ]
  },
  {
   "cell_type": "code",
   "execution_count": 42,
   "metadata": {},
   "outputs": [],
   "source": [
    "class index_outOfRange(Exception):\n",
    "    \n",
    "    def __init__(self, msg):\n",
    "        self.msg = msg"
   ]
  },
  {
   "cell_type": "code",
   "execution_count": 63,
   "metadata": {},
   "outputs": [],
   "source": [
    "def array_split(li, index):\n",
    "    result = []\n",
    "    try:\n",
    "        \n",
    "        if len(li) <= index:\n",
    "            raise index_outOfRange(f\"Index is more than the length of array. Length of array is: {len(li)}\")\n",
    "        \n",
    "        first_part = li[:index]\n",
    "        result = li[index:]\n",
    "\n",
    "        for x in first_part:\n",
    "            result.append(x)\n",
    "        return result\n",
    "    \n",
    "    except ValueError as v:\n",
    "        print(v)\n",
    "    except index_outOfRange as i:\n",
    "        print(i)"
   ]
  },
  {
   "cell_type": "code",
   "execution_count": 66,
   "metadata": {},
   "outputs": [
    {
     "name": "stdout",
     "output_type": "stream",
     "text": [
      "Enter the position where you want to split the array: 2\n",
      "[3, 4, 5, 1, 2]\n"
     ]
    }
   ],
   "source": [
    "index = int(input(\"Enter the position where you want to split the array: \"))\n",
    "print(array_split(li1, index))"
   ]
  },
  {
   "cell_type": "code",
   "execution_count": null,
   "metadata": {},
   "outputs": [],
   "source": []
  },
  {
   "cell_type": "markdown",
   "metadata": {},
   "source": [
    "### Write a Python Program to check if given array is Monotonic?"
   ]
  },
  {
   "cell_type": "code",
   "execution_count": 67,
   "metadata": {},
   "outputs": [],
   "source": [
    "li1 = [1,2,3,4,4,5]\n",
    "li2 = [5,5,3,1]\n",
    "li3 = [1,1,3,2,5]"
   ]
  },
  {
   "cell_type": "code",
   "execution_count": 70,
   "metadata": {},
   "outputs": [],
   "source": [
    "def check_monotonic(li):\n",
    "    monotone_increase = True\n",
    "    monotine_decrease = True\n",
    "    i1 = 0\n",
    "    i2 = 1\n",
    "    while (i2 < len(li)):\n",
    "        if li[i1] < li[i2]:\n",
    "            monotine_decrease = False\n",
    "        elif li[i1] > li[i2]:\n",
    "            monotone_increase = False\n",
    "        i1 += 1\n",
    "        i2 += 1\n",
    "        \n",
    "    if (monotone_increase or monotine_decrease):\n",
    "        return \"Array is Monotonic\"\n",
    "    else:\n",
    "        return \"Array is not Monotonic\""
   ]
  },
  {
   "cell_type": "code",
   "execution_count": 71,
   "metadata": {},
   "outputs": [
    {
     "name": "stdout",
     "output_type": "stream",
     "text": [
      "Array is Monotonic\n"
     ]
    }
   ],
   "source": [
    "print(check_monotonic(li1))"
   ]
  },
  {
   "cell_type": "code",
   "execution_count": 72,
   "metadata": {},
   "outputs": [
    {
     "name": "stdout",
     "output_type": "stream",
     "text": [
      "Array is Monotonic\n"
     ]
    }
   ],
   "source": [
    "print(check_monotonic(li2))"
   ]
  },
  {
   "cell_type": "code",
   "execution_count": 73,
   "metadata": {},
   "outputs": [
    {
     "name": "stdout",
     "output_type": "stream",
     "text": [
      "Array is not Monotonic\n"
     ]
    }
   ],
   "source": [
    "print(check_monotonic(li3))"
   ]
  },
  {
   "cell_type": "code",
   "execution_count": null,
   "metadata": {},
   "outputs": [],
   "source": []
  }
 ],
 "metadata": {
  "kernelspec": {
   "display_name": "Python 3",
   "language": "python",
   "name": "python3"
  },
  "language_info": {
   "codemirror_mode": {
    "name": "ipython",
    "version": 3
   },
   "file_extension": ".py",
   "mimetype": "text/x-python",
   "name": "python",
   "nbconvert_exporter": "python",
   "pygments_lexer": "ipython3",
   "version": "3.8.3"
  }
 },
 "nbformat": 4,
 "nbformat_minor": 4
}
